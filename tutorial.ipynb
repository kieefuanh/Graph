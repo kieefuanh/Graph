{
 "cells": [
  {
   "cell_type": "code",
   "execution_count": 1,
   "metadata": {},
   "outputs": [],
   "source": [
    "from graph import Graph"
   ]
  },
  {
   "cell_type": "code",
   "execution_count": 2,
   "metadata": {},
   "outputs": [
    {
     "name": "stdout",
     "output_type": "stream",
     "text": [
      "<graph.Graph object at 0x7feb426ad0d0>\n"
     ]
    }
   ],
   "source": [
    "graph = Graph()\n",
    "graph.add_edge(2, 3)\n",
    "print(graph)"
   ]
  },
  {
   "cell_type": "code",
   "execution_count": 3,
   "metadata": {},
   "outputs": [
    {
     "name": "stdout",
     "output_type": "stream",
     "text": [
      "<graph.Graph object at 0x7feb426add10>\n"
     ]
    }
   ],
   "source": [
    "graph = Graph.from_txt(\"test/directed.txt\")\n",
    "print(graph)"
   ]
  },
  {
   "cell_type": "code",
   "execution_count": 4,
   "metadata": {},
   "outputs": [
    {
     "data": {
      "text/plain": [
       "[('0', '5'),\n",
       " ('0', '1'),\n",
       " ('5', '4'),\n",
       " ('5', '2'),\n",
       " ('1', '2'),\n",
       " ('2', '3'),\n",
       " ('3', '5'),\n",
       " ('3', '4'),\n",
       " ('4', '0')]"
      ]
     },
     "execution_count": 4,
     "metadata": {},
     "output_type": "execute_result"
    }
   ],
   "source": [
    "graph.edges"
   ]
  },
  {
   "cell_type": "code",
   "execution_count": 6,
   "metadata": {},
   "outputs": [
    {
     "data": {
      "text/plain": [
       "[('FOOD', 'FOOT'),\n",
       " ('FOOD', 'GOOD'),\n",
       " ('FOOD', 'FOOL'),\n",
       " ('FOOT', 'FORT'),\n",
       " ('FOOT', 'FOOD'),\n",
       " ('GOOD', 'FOOD'),\n",
       " ('FOOL', 'FOOD'),\n",
       " ('FOOL', 'POOL'),\n",
       " ('FORT', 'FOOT'),\n",
       " ('POOL', 'POLL'),\n",
       " ('POOL', 'FOOL'),\n",
       " ('POLL', 'POLE'),\n",
       " ('POLL', 'POOL'),\n",
       " ('POLE', 'POLL'),\n",
       " ('POLE', 'PALE'),\n",
       " ('PALE', 'SALE'),\n",
       " ('PALE', 'POLE'),\n",
       " ('PALE', 'SAGE'),\n",
       " ('PALE', 'PALM'),\n",
       " ('SALE', 'PALE'),\n",
       " ('SAGE', 'SALT'),\n",
       " ('SAGE', 'PALE'),\n",
       " ('PALM', 'PALE'),\n",
       " ('SALT', 'SAGE')]"
      ]
     },
     "execution_count": 6,
     "metadata": {},
     "output_type": "execute_result"
    }
   ],
   "source": [
    "graph = Graph.from_txt(\"test/word_transform.txt\")\n",
    "graph.edges"
   ]
  },
  {
   "cell_type": "code",
   "execution_count": 8,
   "metadata": {},
   "outputs": [
    {
     "data": {
      "text/plain": [
       "{'FOOD': <graph.Vertex at 0x7feb426aa510>,\n",
       " 'FOOT': <graph.Vertex at 0x7feb426aa5d0>,\n",
       " 'GOOD': <graph.Vertex at 0x7feb426aa610>,\n",
       " 'FOOL': <graph.Vertex at 0x7feb426aa650>,\n",
       " 'FORT': <graph.Vertex at 0x7feb426aa710>,\n",
       " 'POOL': <graph.Vertex at 0x7feb42699a10>,\n",
       " 'POLL': <graph.Vertex at 0x7feb42699950>,\n",
       " 'POLE': <graph.Vertex at 0x7feb5d44b850>,\n",
       " 'PALE': <graph.Vertex at 0x7feb42699710>,\n",
       " 'SALE': <graph.Vertex at 0x7feb42699a50>,\n",
       " 'SAGE': <graph.Vertex at 0x7feb426ad450>,\n",
       " 'PALM': <graph.Vertex at 0x7feb426add90>,\n",
       " 'SALT': <graph.Vertex at 0x7feb426adc90>}"
      ]
     },
     "execution_count": 8,
     "metadata": {},
     "output_type": "execute_result"
    }
   ],
   "source": [
    "graph.vertex"
   ]
  },
  {
   "cell_type": "code",
   "execution_count": 10,
   "metadata": {},
   "outputs": [
    {
     "name": "stdout",
     "output_type": "stream",
     "text": [
      "FOOT\n",
      "FORT\n",
      "FOOD\n",
      "GOOD\n",
      "FOOL\n",
      "POOL\n",
      "POLL\n",
      "POLE\n",
      "PALE\n",
      "SALE\n",
      "SAGE\n",
      "PALM\n",
      "SALT\n"
     ]
    }
   ],
   "source": [
    "graph.bfs(\"FOOT\")"
   ]
  },
  {
   "cell_type": "code",
   "execution_count": 11,
   "metadata": {},
   "outputs": [
    {
     "name": "stdout",
     "output_type": "stream",
     "text": [
      "FOOT\n",
      "FORT\n",
      "FOOD\n",
      "GOOD\n",
      "FOOL\n",
      "POOL\n",
      "POLL\n",
      "POLE\n",
      "PALE\n",
      "SALE\n",
      "SAGE\n",
      "SALT\n",
      "PALM\n"
     ]
    }
   ],
   "source": [
    "graph.dfs(\"FOOT\", [])"
   ]
  },
  {
   "cell_type": "code",
   "execution_count": null,
   "metadata": {},
   "outputs": [],
   "source": []
  }
 ],
 "metadata": {
  "kernelspec": {
   "display_name": "Python 3.7.12 ('eda')",
   "language": "python",
   "name": "python3"
  },
  "language_info": {
   "codemirror_mode": {
    "name": "ipython",
    "version": 3
   },
   "file_extension": ".py",
   "mimetype": "text/x-python",
   "name": "python",
   "nbconvert_exporter": "python",
   "pygments_lexer": "ipython3",
   "version": "3.7.12"
  },
  "orig_nbformat": 4,
  "vscode": {
   "interpreter": {
    "hash": "62cc7cafde333582161bfa9b0cfebab08f772a245155cba474d056037ac168d5"
   }
  }
 },
 "nbformat": 4,
 "nbformat_minor": 2
}
